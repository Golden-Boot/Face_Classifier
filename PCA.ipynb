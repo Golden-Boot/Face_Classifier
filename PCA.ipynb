{
 "cells": [
  {
   "cell_type": "code",
   "execution_count": 60,
   "metadata": {},
   "outputs": [],
   "source": [
    "import cv2\n",
    "import numpy as np\n",
    "import os\n",
    "import matplotlib.pylab as plt\n",
    "from PIL import Image\n",
    "import random"
   ]
  },
  {
   "cell_type": "code",
   "execution_count": 73,
   "metadata": {},
   "outputs": [],
   "source": [
    "def create_directories(base_path):\n",
    "    dir = [\"new_dataset\",\"train\", \"test\"]\n",
    "    for di in dir:\n",
    "        new_path = base_path + di\n",
    "        if os.path.exists(new_path):\n",
    "            print(\"Directory already exists\")\n",
    "        else:    \n",
    "            os.mkdir(new_path)"
   ]
  },
  {
   "cell_type": "code",
   "execution_count": 85,
   "metadata": {},
   "outputs": [],
   "source": [
    "def Get_U(files):\n",
    "    X = []\n",
    "    for file in files:\n",
    "        img = path + file\n",
    "        img = cv2.imread(img,0)\n",
    "        img = cv2.resize(img, (64,64))\n",
    "        Img = np.array(img, dtype = np.uint8)\n",
    "        Img = np.reshape(Img,(4096))\n",
    "        X.append(Img)\n",
    "\n",
    "    X = np.array(X)\n",
    "    mean = X.mean(axis = 0) \n",
    "    N_X = X - mean\n",
    "    C = np.matmul(N_X.T,N_X)\n",
    "    U,D,V = np.linalg.svd(C)\n",
    "#     print(New_U.shape)\n",
    "    return U"
   ]
  },
  {
   "cell_type": "code",
   "execution_count": 17,
   "metadata": {},
   "outputs": [],
   "source": [
    "def Get_new_U(files,num_of_feat):\n",
    "    X = []\n",
    "    for file in files:\n",
    "        img = path + file\n",
    "        img = cv2.imread(img,0)\n",
    "        img = cv2.resize(img, (64,64))\n",
    "        Img = np.array(img, dtype = np.uint8)\n",
    "        Img = np.reshape(Img,(4096))\n",
    "        X.append(Img)\n",
    "\n",
    "    X = np.array(X)\n",
    "    mean = X.mean(axis = 0) \n",
    "    N_X = X - mean\n",
    "    C = np.matmul(N_X.T,N_X)\n",
    "    U,D,V = np.linalg.svd(C)\n",
    "    New_U = U[:,0:num_of_feat]\n",
    "    print(New_U.shape)\n",
    "    return New_U\n"
   ]
  },
  {
   "cell_type": "code",
   "execution_count": 51,
   "metadata": {},
   "outputs": [],
   "source": [
    "def process_img(img,m,n):\n",
    "    img = cv2.imread(img,0)\n",
    "    img = cv2.resize(img, (m,n))\n",
    "    img = np.array(img, dtype = np.uint8)\n",
    "    img = np.reshape(img,(m*n))\n",
    "    return img"
   ]
  },
  {
   "cell_type": "code",
   "execution_count": 18,
   "metadata": {},
   "outputs": [
    {
     "name": "stdout",
     "output_type": "stream",
     "text": [
      "(4096, 32)\n"
     ]
    }
   ],
   "source": [
    "path = \"./mini-project-1/dataset/\"\n",
    "files = os.listdir(path)\n",
    "New_U = Get_new_U(files,32)"
   ]
  },
  {
   "cell_type": "code",
   "execution_count": 76,
   "metadata": {},
   "outputs": [],
   "source": [
    "def gen_test_train_data(path,name,New_U):\n",
    "    img = path + name\n",
    "    img = process_img(img,64,64)\n",
    "    new_img = np.zeros((1,4096))\n",
    "\n",
    "    for i in range(0,32):\n",
    "        new_img = new_img + (np.dot(img, New_U.T[i]))*New_U.T[i].reshape(1,4096)\n",
    "\n",
    "    new_img = np.reshape(new_img,(64,64))\n",
    "    # plt.imshow(new_img)\n",
    "    prob = random.random()\n",
    "    if (prob > 0.8):\n",
    "        new_dir = \"./mini-project-1/test/\" + name\n",
    "    else :\n",
    "        new_dir = \"./mini-project-1/train/\" + name\n",
    "\n",
    "    cv2.imwrite(new_dir,new_img)"
   ]
  },
  {
   "cell_type": "code",
   "execution_count": 78,
   "metadata": {},
   "outputs": [],
   "source": [
    "def PCA(base_path,path):\n",
    "    create_directories(base_path)\n",
    "    files = os.listdir(path)\n",
    "    New_U = Get_new_U(files,32)\n",
    "    for file in files:\n",
    "        gen_test_train_data(path,file,New_U)"
   ]
  },
  {
   "cell_type": "code",
   "execution_count": 107,
   "metadata": {},
   "outputs": [],
   "source": [
    "def Compare_eigen_outs(path, img):\n",
    "    name = img.split('.')[1]\n",
    "    name = name.split('/')[-1]\n",
    "    files = os.listdir(path)\n",
    "    img = process_img(img,64,64)\n",
    "    U = Get_U(files)\n",
    "    new_img = np.zeros((1,4096))\n",
    "    for i in range(0,100):\n",
    "        new_img = new_img + (np.dot(img, U.T[i]))*U.T[i].reshape(1,4096)\n",
    "        t = np.reshape(new_img,(64,64))\n",
    "        new_file = \"./mini-project-1/new_dataset/\" + name + \"_\" + str(i) + \".jpg\"\n",
    "        cv2.imwrite(new_file,t)\n"
   ]
  },
  {
   "cell_type": "code",
   "execution_count": 79,
   "metadata": {},
   "outputs": [
    {
     "name": "stdout",
     "output_type": "stream",
     "text": [
      "Directory already exists\n",
      "(4096, 32)\n"
     ]
    }
   ],
   "source": [
    "########### Used to do PCA and split data into 80-20 train-test ##############  \n",
    "\n",
    "base_path = \"./mini-project-1/\"\n",
    "path = \"./mini-project-1/dataset/\"\n",
    "PCA(base_path,path,32)"
   ]
  },
  {
   "cell_type": "code",
   "execution_count": 108,
   "metadata": {},
   "outputs": [],
   "source": [
    "#############  Creating and Comparing images created using different number of Eigen vectors #######\n",
    "\n",
    "path = \"./mini-project-1/dataset/\"\n",
    "img = \"./mini-project-1/dataset/000_000.jpg\"\n",
    "Compare_eigen_outs(path,img)"
   ]
  }
 ],
 "metadata": {
  "kernelspec": {
   "display_name": "Python 3",
   "language": "python",
   "name": "python3"
  },
  "language_info": {
   "codemirror_mode": {
    "name": "ipython",
    "version": 3
   },
   "file_extension": ".py",
   "mimetype": "text/x-python",
   "name": "python",
   "nbconvert_exporter": "python",
   "pygments_lexer": "ipython3",
   "version": "3.6.9"
  }
 },
 "nbformat": 4,
 "nbformat_minor": 2
}
