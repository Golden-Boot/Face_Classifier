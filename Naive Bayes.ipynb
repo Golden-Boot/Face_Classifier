{
 "cells": [
  {
   "cell_type": "code",
   "execution_count": 238,
   "metadata": {},
   "outputs": [],
   "source": [
    "import numpy as np\n",
    "import matplotlib.pyplot as plt\n",
    "import cv2\n",
    "import os\n",
    "import math"
   ]
  },
  {
   "cell_type": "code",
   "execution_count": 239,
   "metadata": {},
   "outputs": [],
   "source": [
    "def get_features(path):\n",
    "    img = cv2.imread(path,0)\n",
    "    img = img.tolist()\n",
    "    img = np.array(img)\n",
    "    feat = np.reshape(img,(4096))\n",
    "    return feat"
   ]
  },
  {
   "cell_type": "code",
   "execution_count": 241,
   "metadata": {},
   "outputs": [],
   "source": [
    "def get_probs(X,num_class):\n",
    "    prob = []\n",
    "    total = 0\n",
    "    for i in range(0,num_class):\n",
    "        total += X[i].shape[0]\n",
    "    for i in range(0,num_class):\n",
    "        prob.append(float(X[i].shape[0])/total)\n",
    "    return prob"
   ]
  },
  {
   "cell_type": "code",
   "execution_count": 242,
   "metadata": {},
   "outputs": [],
   "source": [
    "def get_gaussian_params(X,num_class):\n",
    "    means = []\n",
    "    var = []\n",
    "    for i in range(0,num_class):\n",
    "        means.append(np.mean(X[i],axis = 0))\n",
    "        var.append(np.var(X[i],axis = 0))\n",
    "    return means,var"
   ]
  },
  {
   "cell_type": "code",
   "execution_count": 244,
   "metadata": {},
   "outputs": [],
   "source": [
    "def normpdf(x, mean, var):\n",
    "#     var = float(sd)**2\n",
    "    denom = (2*math.pi*var)**.5\n",
    "    num = math.exp(-(float(x)-float(mean))**2/(2*var))\n",
    "    return math.log(num/denom) "
   ]
  },
  {
   "cell_type": "code",
   "execution_count": 245,
   "metadata": {},
   "outputs": [],
   "source": [
    "def get_score(class_mean, test,var):\n",
    "    score = 0\n",
    "#     ans = []\n",
    "    for i in range (0,4096):\n",
    "        score += normpdf(test[i],class_mean[i],var[i])\n",
    "    return score"
   ]
  },
  {
   "cell_type": "code",
   "execution_count": 254,
   "metadata": {},
   "outputs": [],
   "source": [
    "def process_data(train_path,num_class):\n",
    "    files = os.listdir(train_path)\n",
    "    X =  []\n",
    "    for i in range(0,num_class):\n",
    "        X.append(np.zeros((4096)))\n",
    "    for file in files:\n",
    "        name = train_path + file\n",
    "        feat = get_features(name)\n",
    "        cla = int(file.split('_')[0])\n",
    "        if(np.array_equal(np.zeros((4096)),X[cla])):\n",
    "            X[cla] = feat\n",
    "        else:\n",
    "            X[cla] = np.vstack((X[cla],feat))\n",
    "    X = np.array(X)\n",
    "    return X"
   ]
  },
  {
   "cell_type": "code",
   "execution_count": 260,
   "metadata": {},
   "outputs": [],
   "source": [
    "def Predict_class(test_img):\n",
    "    feat = get_features(test_img)\n",
    "    score = -math.inf\n",
    "    ans_class = -1\n",
    "    for cl in range(0,num_class):\n",
    "        curr_score = get_score(means[cl],feat, var[cl])\n",
    "        if(curr_score > score):\n",
    "            score = curr_score\n",
    "            ans_class = cl\n",
    "    return ans_class"
   ]
  },
  {
   "cell_type": "code",
   "execution_count": 256,
   "metadata": {},
   "outputs": [],
   "source": [
    "train_path = './mini-project-1/train/'\n",
    "test_path = './mini-project-1/test/'\n",
    "num_class = 8\n",
    "X = process_data(train_path,num_class)"
   ]
  },
  {
   "cell_type": "code",
   "execution_count": 257,
   "metadata": {},
   "outputs": [
    {
     "name": "stdout",
     "output_type": "stream",
     "text": [
      "(4096,)\n",
      "(4096,)\n"
     ]
    }
   ],
   "source": [
    "means, var = get_gaussian_params(X,num_class)\n",
    "print(means[0].shape)\n",
    "print(var[0].shape)"
   ]
  },
  {
   "cell_type": "code",
   "execution_count": 262,
   "metadata": {},
   "outputs": [
    {
     "name": "stdout",
     "output_type": "stream",
     "text": [
      "50\n",
      "109\n"
     ]
    }
   ],
   "source": [
    "test_files = os.listdir(test_path)\n",
    "final = np.zeros(num_class)\n",
    "total = len(test_files)\n",
    "y_predicted = []\n",
    "y_ground = []\n",
    "correctly_classified = 0\n",
    "for file in test_files:\n",
    "    test_img = test_path + file\n",
    "    target_class = int(test_img.split('_')[0].split('/')[-1])\n",
    "    ans_class = Predict_class(test_img)\n",
    "    if(target_class == ans_class):\n",
    "        correctly_classified += 1\n",
    "    y_ground.append(target_class)\n",
    "    y_predicted.append(ans_class)\n",
    "#     final[ans_class] += 1\n",
    "print(correctly_classified)\n",
    "print(total)"
   ]
  },
  {
   "cell_type": "code",
   "execution_count": 267,
   "metadata": {},
   "outputs": [],
   "source": [
    "import sklearn.metrics as metrics"
   ]
  },
  {
   "cell_type": "code",
   "execution_count": 276,
   "metadata": {},
   "outputs": [
    {
     "data": {
      "image/png": "[encoded data removed]",
      "text/plain": [
       "<Figure size 432x288 with 1 Axes>"
      ]
     },
     "metadata": {
      "needs_background": "light"
     },
     "output_type": "display_data"
    }
   ],
   "source": [
    "cmat = metrics.confusion_matrix(y_ground,y_predicted)\n",
    "plot = plt.imshow(cmat,extent=[1, 8, 1, 8])"
   ]
  },
  {
   "cell_type": "code",
   "execution_count": 259,
   "metadata": {},
   "outputs": [
    {
     "name": "stdout",
     "output_type": "stream",
     "text": [
      "45.87155963302752\n"
     ]
    }
   ],
   "source": [
    "accuracy = 100*(correctly_classified/total)\n",
    "print(accuracy)"
   ]
  }
 ],
 "metadata": {
  "kernelspec": {
   "display_name": "Python 3",
   "language": "python",
   "name": "python3"
  },
  "language_info": {
   "codemirror_mode": {
    "name": "ipython",
    "version": 3
   },
   "file_extension": ".py",
   "mimetype": "text/x-python",
   "name": "python",
   "nbconvert_exporter": "python",
   "pygments_lexer": "ipython3",
   "version": "3.6.9"
  }
 },
 "nbformat": 4,
 "nbformat_minor": 2
}
